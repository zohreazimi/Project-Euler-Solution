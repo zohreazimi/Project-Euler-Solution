{
 "cells": [
  {
   "cell_type": "code",
   "execution_count": 6,
   "id": "d107b289-3bad-4f4a-a10b-9423120728f6",
   "metadata": {},
   "outputs": [
    {
     "data": {
      "text/plain": [
       "137846528820"
      ]
     },
     "execution_count": 6,
     "metadata": {},
     "output_type": "execute_result"
    }
   ],
   "source": [
    "import math\n",
    "n = 20\n",
    "math.comb(2*n,n)"
   ]
  },
  {
   "cell_type": "code",
   "execution_count": 3,
   "id": "321bca63-411f-4aa5-aac8-f08c5e179036",
   "metadata": {},
   "outputs": [
    {
     "name": "stdout",
     "output_type": "stream",
     "text": [
      "137846528820\n"
     ]
    }
   ],
   "source": [
    "from math import factorial\n",
    "\n",
    "def lattice_paths_factorial(n: int) -> int:\n",
    "    return factorial(2 * n) // (factorial(n) * factorial(n))\n",
    "\n",
    "if __name__ == \"__main__\":\n",
    "    n = 20\n",
    "    print(lattice_paths_factorial(n))"
   ]
  },
  {
   "cell_type": "code",
   "execution_count": null,
   "id": "71236ed3-80ed-4ccc-9b63-59e64c9935fe",
   "metadata": {},
   "outputs": [],
   "source": []
  }
 ],
 "metadata": {
  "kernelspec": {
   "display_name": "Python 3 (ipykernel)",
   "language": "python",
   "name": "python3"
  },
  "language_info": {
   "codemirror_mode": {
    "name": "ipython",
    "version": 3
   },
   "file_extension": ".py",
   "mimetype": "text/x-python",
   "name": "python",
   "nbconvert_exporter": "python",
   "pygments_lexer": "ipython3",
   "version": "3.10.11"
  }
 },
 "nbformat": 4,
 "nbformat_minor": 5
}
