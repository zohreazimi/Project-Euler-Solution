{
 "cells": [
  {
   "cell_type": "code",
   "execution_count": 1,
   "id": "8d087d55-03d2-4044-9bf9-104488c1f8e8",
   "metadata": {},
   "outputs": [
    {
     "name": "stdout",
     "output_type": "stream",
     "text": [
      "232792560\n"
     ]
    }
   ],
   "source": [
    "def gcd(a, b):\n",
    "    # فارسی: تابعی برای محاسبه بزرگ‌ترین مقسوم‌علیه مشترک (ب.م.م کوچک) دو عدد\n",
    "    # English: Function to compute the greatest common divisor (GCD) of two numbers\n",
    "    while b:\n",
    "        a, b = b, a % b\n",
    "    return a\n",
    "\n",
    "def lcm(a, b):\n",
    "    # فارسی: تابعی برای محاسبه کم‌ترین مضرب مشترک دو عدد از طریق رابطه LCM(a,b) = a*b / GCD(a,b)\n",
    "    # English: Function to compute the least common multiple (LCM) of two numbers using LCM(a,b) = a*b / GCD(a,b)\n",
    "    return a * b // gcd(a, b)\n",
    "\n",
    "def smallest_multiple(n=20):\n",
    "    # فارسی: تابعی برای یافتن کوچک‌ترین عددی که بر اعداد 1 تا n بخش‌پذیر باشد\n",
    "    # English: Function to find the smallest positive number that is divisible by all integers from 1 to n\n",
    "    result = 1\n",
    "    for i in range(1, n + 1):\n",
    "        # فارسی: در هر مرحله LCM عدد فعلی با i را محاسبه کن\n",
    "        # English: At each step, update result to LCM of current result and i\n",
    "        result = lcm(result, i)\n",
    "    return result\n",
    "\n",
    "if __name__ == \"__main__\":\n",
    "    # فارسی: اجرای اصلی برنامه – محاسبه برای n=20 و چاپ نتیجه\n",
    "    # English: Main execution – compute for n=20 and print the result\n",
    "    answer = smallest_multiple(20)\n",
    "    print(answer)\n"
   ]
  },
  {
   "cell_type": "code",
   "execution_count": 2,
   "id": "d4119310-b846-4398-88c7-ff3fb1148e6b",
   "metadata": {},
   "outputs": [
    {
     "name": "stdout",
     "output_type": "stream",
     "text": [
      "232792560\n"
     ]
    }
   ],
   "source": [
    "def gcd(a, b):\n",
    "    # فارسی: تابعی برای محاسبه ب.م.م دو عدد با الگوریتم اقلیدسی\n",
    "    # English: Function to compute the GCD of two numbers using the Euclidean algorithm\n",
    "    while b:\n",
    "        a, b = b, a % b\n",
    "    return a\n",
    "\n",
    "def lcm(a, b):\n",
    "    # فارسی: تابع محاسبه کمترین مضرب مشترک دو عدد با فرمول a*b / gcd(a,b)\n",
    "    # English: Function to compute the LCM of two numbers using a*b / gcd(a,b)\n",
    "    return a * b // gcd(a, b)\n",
    "\n",
    "def smallest_multiple(n=20):\n",
    "    # فارسی: محاسبه کوچکترین عددی که بر همه اعداد 1 تا n بخش‌پذیر باشد\n",
    "    # English: Find the smallest number divisible by all integers from 1 to n\n",
    "    result = 1\n",
    "    for i in range(1, n + 1):\n",
    "        # فارسی: به روز رسانی نتیجه با LCM عدد قبلی و عدد i\n",
    "        # English: Update result with the LCM of the current result and i\n",
    "        result = lcm(result, i)\n",
    "    return result\n",
    "\n",
    "# فارسی: اجرای مستقیم برنامه و چاپ نتیجه برای n=20\n",
    "# English: Directly run the function and print the result for n=20\n",
    "answer = smallest_multiple(20)\n",
    "print(answer)\n"
   ]
  },
  {
   "cell_type": "code",
   "execution_count": null,
   "id": "df255430-6de9-4c3b-8f1b-ff2fd1fea96a",
   "metadata": {},
   "outputs": [],
   "source": []
  }
 ],
 "metadata": {
  "kernelspec": {
   "display_name": "Python 3 (ipykernel)",
   "language": "python",
   "name": "python3"
  },
  "language_info": {
   "codemirror_mode": {
    "name": "ipython",
    "version": 3
   },
   "file_extension": ".py",
   "mimetype": "text/x-python",
   "name": "python",
   "nbconvert_exporter": "python",
   "pygments_lexer": "ipython3",
   "version": "3.10.11"
  }
 },
 "nbformat": 4,
 "nbformat_minor": 5
}
