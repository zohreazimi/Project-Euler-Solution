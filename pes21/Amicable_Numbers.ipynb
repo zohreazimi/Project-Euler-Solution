{
 "cells": [
  {
   "cell_type": "code",
   "execution_count": 1,
   "id": "be4ba466-e8b6-4cc3-8d99-e8e2be19324a",
   "metadata": {},
   "outputs": [
    {
     "name": "stdout",
     "output_type": "stream",
     "text": [
      "31626\n"
     ]
    }
   ],
   "source": [
    "def d(n):\n",
    "    \"\"\"\n",
    "    Returns the sum of proper divisors of n.\n",
    "    بازمی‌گرداند مجموع مقسوم‌علیه‌های کامل n\n",
    "    \"\"\"\n",
    "    total = 1  # 1 is always a proper divisor (except for n=1, که آن‌جا total=0 شود)\n",
    "    # بررسی مقسوم‌علیه‌ها تا جذر n\n",
    "    i = 2\n",
    "    while i * i <= n:\n",
    "        if n % i == 0:\n",
    "            total += i\n",
    "            if i != n // i:\n",
    "                total += n // i\n",
    "        i += 1\n",
    "    return total if n != 1 else 0\n",
    "\n",
    "# جمع نهایی از اعداد دوستانه\n",
    "amicable_sum = 0\n",
    "\n",
    "# بررسی اعداد تا زیر 10٬000\n",
    "for a in range(2, 10000):\n",
    "    b = d(a)\n",
    "    if b != a and d(b) == a:\n",
    "        amicable_sum += a\n",
    "\n",
    "print(amicable_sum)  # چاپ نتیجه\n"
   ]
  },
  {
   "cell_type": "code",
   "execution_count": null,
   "id": "2c4aafbc-9252-469a-ae17-30d2fac3b342",
   "metadata": {},
   "outputs": [],
   "source": []
  }
 ],
 "metadata": {
  "kernelspec": {
   "display_name": "Python 3 (ipykernel)",
   "language": "python",
   "name": "python3"
  },
  "language_info": {
   "codemirror_mode": {
    "name": "ipython",
    "version": 3
   },
   "file_extension": ".py",
   "mimetype": "text/x-python",
   "name": "python",
   "nbconvert_exporter": "python",
   "pygments_lexer": "ipython3",
   "version": "3.10.11"
  }
 },
 "nbformat": 4,
 "nbformat_minor": 5
}
