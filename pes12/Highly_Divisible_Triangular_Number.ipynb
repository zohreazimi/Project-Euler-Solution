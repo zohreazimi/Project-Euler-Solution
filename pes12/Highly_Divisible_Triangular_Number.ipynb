{
 "cells": [
  {
   "cell_type": "code",
   "execution_count": 1,
   "id": "7c02648d-be95-4966-83c2-a6b4518d05b3",
   "metadata": {},
   "outputs": [
    {
     "name": "stdout",
     "output_type": "stream",
     "text": [
      "76576500\n"
     ]
    }
   ],
   "source": [
    "# -*- coding: utf-8 -*-\n",
    "\"\"\"\n",
    "این برنامه اولین عدد مثلثی (triangle number) را پیدا می‌کند\n",
    "که بیش از ۵۰۰ مقسوم‌علیه (divisors) داشته باشد.\n",
    "\n",
    "This script finds the first triangular number that has over 500 divisors.\n",
    "\"\"\"\n",
    "\n",
    "def count_divisors(n):\n",
    "    \"\"\"\n",
    "    شمارش مقسوم‌علیه‌های عدد n\n",
    "\n",
    "    Count the number of divisors of n.\n",
    "    Efficient by checking up to sqrt(n).\n",
    "    \"\"\"\n",
    "    count = 0\n",
    "    i = 1\n",
    "    # هر عددی ≤ sqrt(n) را بررسی می‌کنیم\n",
    "    # For each i up to sqrt(n)\n",
    "    while i * i <= n:\n",
    "        if n % i == 0:\n",
    "            # i یک مقسوم‌علیه است\n",
    "            # i is a divisor\n",
    "            if i * i == n:\n",
    "                count += 1  # اگر مربع کامل باشد فقط یک تا حساب می‌کنیم\n",
    "                # if it's a perfect square, add only one\n",
    "            else:\n",
    "                count += 2  # i و n//i هر دو مقسوم‌علیه محسوب می‌شوند\n",
    "                # both i and n//i are divisors\n",
    "        i += 1\n",
    "    return count\n",
    "\n",
    "def first_triangular_with_divisors(limit):\n",
    "    \"\"\"\n",
    "    یافتن اولین عدد مثلثی با تعداد مقسوم‌علیه‌ای بیش از limit\n",
    "\n",
    "    Find the first triangular number with more than `limit` divisors.\n",
    "    \"\"\"\n",
    "    n = 1\n",
    "    tri = 1  # اولین عدد مثلثی\n",
    "    # iterate until we find a triangular number with more than 'limit' divisors\n",
    "    while True:\n",
    "        # تعداد مقسوم‌علیه‌های عدد مثلثی فعلی را محاسبه می‌کنیم\n",
    "        # count divisors of the current triangular number\n",
    "        if count_divisors(tri) > limit:\n",
    "            return tri  # اگر بیش از limit بود، آن را برمی‌گردانیم\n",
    "        n += 1\n",
    "        tri += n  # عدد مثلثی بعدی = tri قبلی + n\n",
    "\n",
    "if __name__ == \"__main__\":\n",
    "    # حد افقی که در مسئله گفته شده—۵۰۰\n",
    "    # the problem asks for over 500 divisors\n",
    "    limit = 500\n",
    "    result = first_triangular_with_divisors(limit)\n",
    "    print(result)  # خروجی: اولین عدد مثلثی با بیش از ۵۰۰ مقسوم‌علیه\n"
   ]
  },
  {
   "cell_type": "code",
   "execution_count": null,
   "id": "f7af47b8-6a6f-4903-9b0a-e0b470325741",
   "metadata": {},
   "outputs": [],
   "source": []
  }
 ],
 "metadata": {
  "kernelspec": {
   "display_name": "Python 3 (ipykernel)",
   "language": "python",
   "name": "python3"
  },
  "language_info": {
   "codemirror_mode": {
    "name": "ipython",
    "version": 3
   },
   "file_extension": ".py",
   "mimetype": "text/x-python",
   "name": "python",
   "nbconvert_exporter": "python",
   "pygments_lexer": "ipython3",
   "version": "3.10.11"
  }
 },
 "nbformat": 4,
 "nbformat_minor": 5
}
