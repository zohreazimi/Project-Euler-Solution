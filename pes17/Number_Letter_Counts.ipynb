{
 "cells": [
  {
   "cell_type": "code",
   "execution_count": 4,
   "id": "f714c0db-c496-4464-800f-54e8a2c55251",
   "metadata": {},
   "outputs": [
    {
     "name": "stdout",
     "output_type": "stream",
     "text": [
      "21124\n"
     ]
    }
   ],
   "source": [
    "def num_to_words(n):\n",
    "    ones = [\"\",\"one\",\"two\",\"three\",\"four\",\"five\",\"six\",\"seven\",\"eight\",\"nine\",\n",
    "            \"ten\",\"eleven\",\"twelve\",\"thirteen\",\"fourteen\",\"fifteen\",\"sixteen\",\n",
    "            \"seventeen\",\"eighteen\",\"nineteen\"]\n",
    "    tens = [\"\",\"\",\"twenty\",\"thirty\",\"forty\",\"fifty\",\"sixty\",\"seventy\",\"eighty\",\"ninety\"]\n",
    "\n",
    "    if n == 1000:\n",
    "        return \"onethousand\"\n",
    "    elif n >= 100:\n",
    "        return ones[n//100] + \"hundred\" + (\"\" if n%100==0 else \"and\" + num_to_words(n%100))\n",
    "    elif n >= 20:\n",
    "        return tens[n//10] + ones[n%10]\n",
    "    else:\n",
    "        return ones[n]\n",
    "\n",
    "total = 0\n",
    "for i in range(1, 1001):\n",
    "    total += len(num_to_words(i))\n",
    "\n",
    "print(total) \n"
   ]
  },
  {
   "cell_type": "code",
   "execution_count": 2,
   "id": "01eaa3fc-48d8-4b09-b044-43572a0a7427",
   "metadata": {},
   "outputs": [
    {
     "name": "stdout",
     "output_type": "stream",
     "text": [
      "21124\n"
     ]
    }
   ],
   "source": [
    "def e17():\n",
    "    n1 = (0,3,3,5,4,4,3,5,5,4)      # one–nine\n",
    "    n10 = (0,3,6,6,5,5,5,7,6,6)     # ten, twenty, ... ninety\n",
    "    n11 = (0,6,6,8,8,7,7,9,8,8)     # eleven–nineteen\n",
    "    n = (7, 10, 11)                 # \"hundred\", \"hundredand\", \"onethousand\"\n",
    "\n",
    "    n1to99x10 = (sum(n1)*9 + n10[1] + sum(n11) + sum(n10[2:])*10) * 10\n",
    "    n100to900all = n[0]*9 + n[1]*99*9 + sum(n1)*100\n",
    "    letters = n1to99x10 + n100to900all + n[2]\n",
    "    return letters\n",
    "\n",
    "print(e17())  # 21124\n"
   ]
  },
  {
   "cell_type": "code",
   "execution_count": null,
   "id": "a6fa3673-cc5f-4175-859b-d8a9d769ba23",
   "metadata": {},
   "outputs": [],
   "source": []
  },
  {
   "cell_type": "code",
   "execution_count": null,
   "id": "e351f811-4e27-42f7-a70d-f6a1678c356a",
   "metadata": {},
   "outputs": [],
   "source": []
  }
 ],
 "metadata": {
  "kernelspec": {
   "display_name": "Python 3 (ipykernel)",
   "language": "python",
   "name": "python3"
  },
  "language_info": {
   "codemirror_mode": {
    "name": "ipython",
    "version": 3
   },
   "file_extension": ".py",
   "mimetype": "text/x-python",
   "name": "python",
   "nbconvert_exporter": "python",
   "pygments_lexer": "ipython3",
   "version": "3.10.11"
  }
 },
 "nbformat": 4,
 "nbformat_minor": 5
}
