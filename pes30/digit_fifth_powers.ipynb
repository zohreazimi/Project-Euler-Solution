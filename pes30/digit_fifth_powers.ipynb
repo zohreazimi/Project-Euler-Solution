{
 "cells": [
  {
   "cell_type": "code",
   "execution_count": 3,
   "id": "afd7130e-a404-42a4-ad86-ce41220b05f1",
   "metadata": {},
   "outputs": [
    {
     "name": "stdout",
     "output_type": "stream",
     "text": [
      "The numbers are: [4150, 4151, 54748, 92727, 93084, 194979] and their sum is 443839\n"
     ]
    }
   ],
   "source": [
    "def digit_fifth_powers(n):\n",
    "    total = 0\n",
    "    for digit in str(n):\n",
    "        total += int(digit) ** 5\n",
    "    return total\n",
    "\n",
    "result = []\n",
    "for number in range(10, 354295):\n",
    "    if number == digit_fifth_powers(number):\n",
    "        result.append(number)\n",
    "\n",
    "print(f\"The numbers are: {result} and their sum is {sum(result)}\")"
   ]
  },
  {
   "cell_type": "code",
   "execution_count": null,
   "id": "bec77bfb-4359-4482-be43-c2d578321bc4",
   "metadata": {},
   "outputs": [],
   "source": []
  }
 ],
 "metadata": {
  "kernelspec": {
   "display_name": "Python 3 (ipykernel)",
   "language": "python",
   "name": "python3"
  },
  "language_info": {
   "codemirror_mode": {
    "name": "ipython",
    "version": 3
   },
   "file_extension": ".py",
   "mimetype": "text/x-python",
   "name": "python",
   "nbconvert_exporter": "python",
   "pygments_lexer": "ipython3",
   "version": "3.12.4"
  }
 },
 "nbformat": 4,
 "nbformat_minor": 5
}
