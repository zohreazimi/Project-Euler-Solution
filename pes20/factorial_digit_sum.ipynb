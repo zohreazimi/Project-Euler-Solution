{
 "cells": [
  {
   "cell_type": "code",
   "execution_count": 2,
   "id": "a2b52664-ffa9-4d64-9b2d-a6bdaf42f7c2",
   "metadata": {},
   "outputs": [
    {
     "name": "stdout",
     "output_type": "stream",
     "text": [
      "result = 648\n"
     ]
    }
   ],
   "source": [
    "import math\n",
    "\n",
    "factorial_100 = math.factorial(100)\n",
    "\n",
    "factorial_str = str(factorial_100)\n",
    "digit_sum = 0\n",
    "for digit_char in factorial_str:\n",
    "    digit_sum += int(digit_char)\n",
    "\n",
    "print(\"result =\", digit_sum)\n"
   ]
  }
 ],
 "metadata": {
  "kernelspec": {
   "display_name": "Python 3 (ipykernel)",
   "language": "python",
   "name": "python3"
  },
  "language_info": {
   "codemirror_mode": {
    "name": "ipython",
    "version": 3
   },
   "file_extension": ".py",
   "mimetype": "text/x-python",
   "name": "python",
   "nbconvert_exporter": "python",
   "pygments_lexer": "ipython3",
   "version": "3.12.4"
  }
 },
 "nbformat": 4,
 "nbformat_minor": 5
}
