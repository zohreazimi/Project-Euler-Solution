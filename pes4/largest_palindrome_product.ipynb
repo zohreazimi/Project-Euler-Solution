{
 "cells": [
  {
   "cell_type": "code",
   "execution_count": 1,
   "id": "1c0182a1-08a2-4745-a31e-2793e90b359b",
   "metadata": {},
   "outputs": [
    {
     "name": "stdout",
     "output_type": "stream",
     "text": [
      "906609\n"
     ]
    }
   ],
   "source": [
    "largest_palindrome = 0\n",
    "for i in range(999,99,-1):\n",
    "    for j in range(i,99,-1):\n",
    "        product = i*j\n",
    "        if str(product) == str(product)[::-1]:\n",
    "            if product > largest_palindrome:\n",
    "                largest_palindrome = product\n",
    "print(largest_palindrome)"
   ]
  },
  {
   "cell_type": "code",
   "execution_count": 1,
   "id": "c582562e-628c-4554-b451-2c0d9b0ed4ce",
   "metadata": {},
   "outputs": [
    {
     "name": "stdout",
     "output_type": "stream",
     "text": [
      "906609\n"
     ]
    }
   ],
   "source": [
    "palindromes = [\n",
    "    i * j\n",
    "    for i in range(100, 1000)\n",
    "    for j in range(100, 1000)\n",
    "    if str(i * j) == str(i * j)[::-1]\n",
    "]\n",
    "print(max(palindromes))"
   ]
  },
  {
   "cell_type": "code",
   "execution_count": null,
   "id": "82a157be-125f-483e-93a3-f591047c4626",
   "metadata": {},
   "outputs": [],
   "source": []
  }
 ],
 "metadata": {
  "kernelspec": {
   "display_name": "Python 3 (ipykernel)",
   "language": "python",
   "name": "python3"
  },
  "language_info": {
   "codemirror_mode": {
    "name": "ipython",
    "version": 3
   },
   "file_extension": ".py",
   "mimetype": "text/x-python",
   "name": "python",
   "nbconvert_exporter": "python",
   "pygments_lexer": "ipython3",
   "version": "3.12.4"
  }
 },
 "nbformat": 4,
 "nbformat_minor": 5
}
