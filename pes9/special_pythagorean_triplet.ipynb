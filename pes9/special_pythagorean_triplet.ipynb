{
 "cells": [
  {
   "cell_type": "code",
   "execution_count": 1,
   "id": "43d4690c-6802-487d-9f0c-ef54f30ff0ca",
   "metadata": {},
   "outputs": [
    {
     "name": "stdout",
     "output_type": "stream",
     "text": [
      "31875000\n"
     ]
    }
   ],
   "source": [
    "for a in range(1,1000):\n",
    "    for b in range(a+1,1000):\n",
    "        c = 1000 - a - b\n",
    "        if a **2 + b**2 == c**2:\n",
    "            print(a*b*c)\n",
    "            break\n",
    "    else:\n",
    "        continue\n",
    "    break\n"
   ]
  },
  {
   "cell_type": "code",
   "execution_count": 2,
   "id": "256e8b1c-b637-4225-92b7-068b6da98861",
   "metadata": {},
   "outputs": [
    {
     "name": "stdout",
     "output_type": "stream",
     "text": [
      "31875000\n"
     ]
    }
   ],
   "source": [
    "for a in range(1, 1000):\n",
    "    for b in range(a+1, 500 - a // 2):\n",
    "        c = 1000 - a - b\n",
    "        if a*a + b*b == c*c:\n",
    "            print(a * b * c)\n",
    "            break\n"
   ]
  },
  {
   "cell_type": "code",
   "execution_count": 5,
   "id": "e420d30b-ca91-401e-9c37-c8955cd2fa8a",
   "metadata": {},
   "outputs": [
    {
     "name": "stdout",
     "output_type": "stream",
     "text": [
      "200 375 425 31875000\n"
     ]
    }
   ],
   "source": [
    "for a in range(1, 1000):\n",
    "    for b in range(a + 1, 1000 - a):\n",
    "        c = 1000 - a - b\n",
    "        if a**2 + b**2 == c**2:\n",
    "            print(a, b, c, a*b*c)"
   ]
  },
  {
   "cell_type": "code",
   "execution_count": null,
   "id": "9a306ef4-7d0a-4450-9000-639ab815aba0",
   "metadata": {},
   "outputs": [],
   "source": []
  }
 ],
 "metadata": {
  "kernelspec": {
   "display_name": "Python 3 (ipykernel)",
   "language": "python",
   "name": "python3"
  },
  "language_info": {
   "codemirror_mode": {
    "name": "ipython",
    "version": 3
   },
   "file_extension": ".py",
   "mimetype": "text/x-python",
   "name": "python",
   "nbconvert_exporter": "python",
   "pygments_lexer": "ipython3",
   "version": "3.12.4"
  }
 },
 "nbformat": 4,
 "nbformat_minor": 5
}
