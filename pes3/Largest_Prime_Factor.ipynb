{
 "cells": [
  {
   "cell_type": "code",
   "execution_count": 1,
   "id": "066b905b-d0cd-4a75-b06d-3088c0b9bc50",
   "metadata": {},
   "outputs": [
    {
     "name": "stdout",
     "output_type": "stream",
     "text": [
      "6857\n"
     ]
    }
   ],
   "source": [
    "n = 600851475143\n",
    "f = 2\n",
    "while n > 1:\n",
    "    if n % f == 0:\n",
    "        n //= f\n",
    "    else:\n",
    "        f += 1\n",
    "print(f)"
   ]
  },
  {
   "cell_type": "code",
   "execution_count": 2,
   "id": "71e7ab62-2a52-4d80-a245-7c6aefab30d9",
   "metadata": {},
   "outputs": [
    {
     "name": "stdout",
     "output_type": "stream",
     "text": [
      "6857\n"
     ]
    }
   ],
   "source": [
    "n = 600851475143\n",
    "f = 2\n",
    "while n > 1:\n",
    "    if n % f == 0:\n",
    "        n //= f\n",
    "    else:\n",
    "        f += 1\n",
    "print(f)"
   ]
  },
  {
   "cell_type": "code",
   "execution_count": null,
   "id": "fe3b37fd-6521-43c5-a894-998bc674a90b",
   "metadata": {},
   "outputs": [],
   "source": []
  }
 ],
 "metadata": {
  "kernelspec": {
   "display_name": "Python 3 (ipykernel)",
   "language": "python",
   "name": "python3"
  },
  "language_info": {
   "codemirror_mode": {
    "name": "ipython",
    "version": 3
   },
   "file_extension": ".py",
   "mimetype": "text/x-python",
   "name": "python",
   "nbconvert_exporter": "python",
   "pygments_lexer": "ipython3",
   "version": "3.10.11"
  }
 },
 "nbformat": 4,
 "nbformat_minor": 5
}
