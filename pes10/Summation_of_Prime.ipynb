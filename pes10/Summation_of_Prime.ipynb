{
 "cells": [
  {
   "cell_type": "code",
   "execution_count": 2,
   "id": "ae96f635-f04b-4d4c-ba25-52a8167956ef",
   "metadata": {},
   "outputs": [
    {
     "name": "stdout",
     "output_type": "stream",
     "text": [
      "142913828922\n"
     ]
    }
   ],
   "source": [
    "limit = 2000000\n",
    "is_prime = [True] * limit\n",
    "is_prime[0:2] = [False, False]\n",
    "\n",
    "for i in range(2, int(limit ** 0.5) + 1):\n",
    "    if is_prime[i]:\n",
    "        for j in range(i*i, limit, i):\n",
    "            is_prime[j] = False\n",
    "\n",
    "total = sum(i for i, val in enumerate(is_prime) if val)\n",
    "print(total)\n"
   ]
  },
  {
   "cell_type": "code",
   "execution_count": 3,
   "id": "675b8f29-ee5c-437f-916c-c585cf987172",
   "metadata": {},
   "outputs": [
    {
     "name": "stdout",
     "output_type": "stream",
     "text": [
      "142913828922\n"
     ]
    }
   ],
   "source": [
    "def sum_primes(limit):\n",
    "    is_prime = [True] * limit\n",
    "    is_prime[0:2] = [False, False]\n",
    "\n",
    "    for i in range(2, int(limit ** 0.5) + 1):\n",
    "        if is_prime[i]:\n",
    "            for j in range(i*i, limit, i):\n",
    "                is_prime[j] = False\n",
    "\n",
    "    return sum(i for i, val in enumerate(is_prime) if val)\n",
    "\n",
    "limit = 2000000\n",
    "total = sum_primes(limit)\n",
    "print(total)\n"
   ]
  },
  {
   "cell_type": "code",
   "execution_count": null,
   "id": "ec428c68-d71a-437c-9197-9012582e0b76",
   "metadata": {},
   "outputs": [],
   "source": []
  }
 ],
 "metadata": {
  "kernelspec": {
   "display_name": "Python 3 (ipykernel)",
   "language": "python",
   "name": "python3"
  },
  "language_info": {
   "codemirror_mode": {
    "name": "ipython",
    "version": 3
   },
   "file_extension": ".py",
   "mimetype": "text/x-python",
   "name": "python",
   "nbconvert_exporter": "python",
   "pygments_lexer": "ipython3",
   "version": "3.10.11"
  }
 },
 "nbformat": 4,
 "nbformat_minor": 5
}
