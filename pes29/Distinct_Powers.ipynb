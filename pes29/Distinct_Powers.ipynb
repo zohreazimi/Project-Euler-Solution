{
 "cells": [
  {
   "cell_type": "code",
   "execution_count": 1,
   "id": "cec881d8-cc41-4a9e-8dab-dae0bd492ece",
   "metadata": {},
   "outputs": [
    {
     "name": "stdout",
     "output_type": "stream",
     "text": [
      "t: 9183\n"
     ]
    }
   ],
   "source": [
    "distinct_terms = set()\n",
    "\n",
    "for a in range(2,101):\n",
    "    for b in range(2,101):\n",
    "        distinct_terms.add(a**b)\n",
    "print(\"t:\",len(distinct_terms))"
   ]
  },
  {
   "cell_type": "code",
   "execution_count": null,
   "id": "d5c5d00e-65f6-4b12-8760-2c346a059b25",
   "metadata": {},
   "outputs": [],
   "source": []
  }
 ],
 "metadata": {
  "kernelspec": {
   "display_name": "Python 3 (ipykernel)",
   "language": "python",
   "name": "python3"
  },
  "language_info": {
   "codemirror_mode": {
    "name": "ipython",
    "version": 3
   },
   "file_extension": ".py",
   "mimetype": "text/x-python",
   "name": "python",
   "nbconvert_exporter": "python",
   "pygments_lexer": "ipython3",
   "version": "3.10.11"
  }
 },
 "nbformat": 4,
 "nbformat_minor": 5
}
