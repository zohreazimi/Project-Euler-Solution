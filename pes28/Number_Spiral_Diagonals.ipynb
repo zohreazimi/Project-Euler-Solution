{
 "cells": [
  {
   "cell_type": "code",
   "execution_count": 1,
   "id": "9f89d5a1-4411-4a28-9cf9-b2606fc48335",
   "metadata": {},
   "outputs": [
    {
     "name": "stdout",
     "output_type": "stream",
     "text": [
      "669171001\n"
     ]
    }
   ],
   "source": [
    "def diagonal_sum(n):\n",
    "    total = 1\n",
    "    for i in range(3, n + 1, 2):\n",
    "        total += 4 * i**2 - 6 * i + 6\n",
    "    return total\n",
    "\n",
    "print(diagonal_sum(1001))\n"
   ]
  },
  {
   "cell_type": "code",
   "execution_count": null,
   "id": "5ef1b278-e01c-424f-a98b-561753619d65",
   "metadata": {},
   "outputs": [],
   "source": []
  }
 ],
 "metadata": {
  "kernelspec": {
   "display_name": "Python 3 (ipykernel)",
   "language": "python",
   "name": "python3"
  },
  "language_info": {
   "codemirror_mode": {
    "name": "ipython",
    "version": 3
   },
   "file_extension": ".py",
   "mimetype": "text/x-python",
   "name": "python",
   "nbconvert_exporter": "python",
   "pygments_lexer": "ipython3",
   "version": "3.10.11"
  }
 },
 "nbformat": 4,
 "nbformat_minor": 5
}
