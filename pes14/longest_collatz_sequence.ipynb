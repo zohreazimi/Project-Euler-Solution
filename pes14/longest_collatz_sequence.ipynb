{
 "cells": [
  {
   "cell_type": "code",
   "execution_count": 3,
   "id": "ec3fb7dd-9b7e-4911-9163-debe69549e45",
   "metadata": {},
   "outputs": [
    {
     "name": "stdout",
     "output_type": "stream",
     "text": [
      "Number: 837799\n",
      "Length: 525\n"
     ]
    }
   ],
   "source": [
    "def collatz_length(n):\n",
    "    length = 1\n",
    "    while n !=1:\n",
    "        if n%2 == 0:\n",
    "            n //= 2\n",
    "        else:\n",
    "            n = 3*n+1\n",
    "        length += 1\n",
    "    return length\n",
    "max_length = 0\n",
    "starting_number = 0\n",
    "for i in range(1,1000000):\n",
    "    current_length = collatz_length(i)\n",
    "    if current_length > max_length:\n",
    "        max_length = current_length\n",
    "        starting_number = i\n",
    "print(\"Number:\" , starting_number)\n",
    "print(\"Length:\" , max_length)"
   ]
  },
  {
   "cell_type": "code",
   "execution_count": 2,
   "id": "ff612b4e-324e-42fd-9d6f-2541dd062071",
   "metadata": {},
   "outputs": [
    {
     "name": "stdout",
     "output_type": "stream",
     "text": [
      "837799 525\n"
     ]
    }
   ],
   "source": [
    "longest_num = 1\n",
    "longest_len = 1\n",
    "\n",
    "for i in range(1, 1000000):\n",
    "    n = i\n",
    "    length = 1\n",
    "    while n != 1:\n",
    "        if n % 2 == 0:\n",
    "            n //= 2\n",
    "        else:\n",
    "            n = 3 * n + 1\n",
    "        length += 1\n",
    "    if length > longest_len:\n",
    "        longest_len = length\n",
    "        longest_num = i\n",
    "\n",
    "print(longest_num, longest_le)"
   ]
  },
  {
   "cell_type": "code",
   "execution_count": null,
   "id": "5df7466b-9393-489d-b693-880e94a65ec4",
   "metadata": {},
   "outputs": [],
   "source": []
  }
 ],
 "metadata": {
  "kernelspec": {
   "display_name": "Python 3 (ipykernel)",
   "language": "python",
   "name": "python3"
  },
  "language_info": {
   "codemirror_mode": {
    "name": "ipython",
    "version": 3
   },
   "file_extension": ".py",
   "mimetype": "text/x-python",
   "name": "python",
   "nbconvert_exporter": "python",
   "pygments_lexer": "ipython3",
   "version": "3.12.4"
  }
 },
 "nbformat": 4,
 "nbformat_minor": 5
}
