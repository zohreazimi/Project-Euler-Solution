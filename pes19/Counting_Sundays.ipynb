{
 "cells": [
  {
   "cell_type": "code",
   "execution_count": 1,
   "id": "84b8d6a4-f6c9-4dbd-bfed-33ad41091b72",
   "metadata": {},
   "outputs": [
    {
     "name": "stdout",
     "output_type": "stream",
     "text": [
      "171\n"
     ]
    }
   ],
   "source": [
    "# -*- coding: utf-8 -*-\n",
    "\"\"\"\n",
    "این برنامه تعداد روزهای یک‌شنبه را که در اولین روز ماه هستند\n",
    "در قرن بیستم (از 1 ژانویه 1901 تا 31 دسامبر 2000) محاسبه می‌کند.\n",
    "\n",
    "This script counts how many Sundays fell on the first of the month\n",
    "during the twentieth century (1 Jan 1901 to 31 Dec 2000).\n",
    "\"\"\"\n",
    "\n",
    "def is_leap_year(year):\n",
    "    \"\"\"\n",
    "    بررسی اینکه آیا سال leap year هست یا نه.\n",
    "    Check whether a year is a leap year.\n",
    "    \"\"\"\n",
    "    # سال‌های قابل تقسیم بر 400 همیشه کبیسه هستند،\n",
    "    # divisible by 400 -> leap year\n",
    "    if year % 400 == 0:\n",
    "        return True\n",
    "    # سال‌های قابل تقسیم بر 100 ولی نه بر 400 کبیسه نیستند،\n",
    "    # divisible by 100 but not 400 -> not leap year\n",
    "    if year % 100 == 0:\n",
    "        return False\n",
    "    # سال‌های قابل تقسیم بر 4 کبیسه هستند،\n",
    "    # divisible by 4 -> leap year\n",
    "    if year % 4 == 0:\n",
    "        return True\n",
    "    return False\n",
    "\n",
    "def days_in_month(year, month):\n",
    "    \"\"\"\n",
    "    بازمی‌گرداند تعداد روزهای ماه داده‌شده در آن سال.\n",
    "    Return the number of days in the given month of the given year.\n",
    "    \"\"\"\n",
    "    # ماه‌هایی که 31 روز دارند:\n",
    "    # January=1, March=3, May=5, July=7, August=8, October=10, December=12\n",
    "    if month in (1, 3, 5, 7, 8, 10, 12):\n",
    "        return 31\n",
    "    # ماه‌هایی که 30 روز دارند: April=4, June=6, September=9, November=11\n",
    "    if month in (4, 6, 9, 11):\n",
    "        return 30\n",
    "    # فوریه (ماه دوم)؛ در سال کبیسه 29 و در غیر آن 28 روز دارد\n",
    "    # February: 29 days in leap years, otherwise 28\n",
    "    return 29 if is_leap_year(year) else 28\n",
    "\n",
    "def count_sundays_on_first_of_month():\n",
    "    \"\"\"\n",
    "    محاسبه‌ی تعداد اولین‌های ماه که یک‌شنبه هستند\n",
    "    در بازه‌ی 1 ژانویه 1901 تا 31 دسامبر 2000.\n",
    "\n",
    "    Count how many times the first day of a month was a Sunday\n",
    "    between 1 Jan 1901 and 31 Dec 2000.\n",
    "    \"\"\"\n",
    "    count = 0\n",
    "    # روز هفته را به صورت عددی نگه می‌داریم:\n",
    "    # 0 = Monday, 1 = Tuesday, ..., 6 = Sunday\n",
    "    # از آنجایی که 1 Jan 1900 یک Monday بود،\n",
    "    # می‌توانیم روز هفته برای 1 Jan 1901 را محاسبه کنیم\n",
    "    day_of_week = 0  # Monday on 1 Jan 1900\n",
    "\n",
    "    # محاسبه‌ی روز هفته برای 1 Jan 1901:\n",
    "    # روزهای بین: 1900 کامل به تعداد روزهایش\n",
    "    for month in range(1, 13):\n",
    "        day_of_week = (day_of_week + days_in_month(1900, month)) % 7\n",
    "\n",
    "    # حالا day_of_week مربوط‌به 1 Jan 1901 است\n",
    "    # آن را برای تمام ماه‌ها در بازه‌ی مورد نظر پیمایش می‌کنیم\n",
    "    for year in range(1901, 2001):\n",
    "        for month in range(1, 13):\n",
    "            if day_of_week == 6:  # 6 مساوی Sunday است\n",
    "                count += 1\n",
    "            # حرکت به اولین روز ماه بعد\n",
    "            day_of_week = (day_of_week + days_in_month(year, month)) % 7\n",
    "\n",
    "    return count\n",
    "\n",
    "if __name__ == \"__main__\":\n",
    "    result = count_sundays_on_first_of_month()\n",
    "    print(result)  # چاپ تعداد یک‌شنبه‌هایی که در اولین روز ماه بودند\n"
   ]
  },
  {
   "cell_type": "code",
   "execution_count": null,
   "id": "09994153-26c1-4207-b59f-52fbd72b5fdc",
   "metadata": {},
   "outputs": [],
   "source": []
  }
 ],
 "metadata": {
  "kernelspec": {
   "display_name": "Python 3 (ipykernel)",
   "language": "python",
   "name": "python3"
  },
  "language_info": {
   "codemirror_mode": {
    "name": "ipython",
    "version": 3
   },
   "file_extension": ".py",
   "mimetype": "text/x-python",
   "name": "python",
   "nbconvert_exporter": "python",
   "pygments_lexer": "ipython3",
   "version": "3.10.11"
  }
 },
 "nbformat": 4,
 "nbformat_minor": 5
}
