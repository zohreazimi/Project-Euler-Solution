{
 "cells": [
  {
   "cell_type": "code",
   "execution_count": 1,
   "id": "b427e74b-4d06-48e9-995d-5924ffcaac5b",
   "metadata": {},
   "outputs": [
    {
     "name": "stdout",
     "output_type": "stream",
     "text": [
      "23514624000\n"
     ]
    }
   ],
   "source": [
    "# فارسی: رشته‌ی عدد ۱۰۰۰ رقمی اصلی\n",
    "# English: The original 1000-digit number as a string\n",
    "digits = (\n",
    "    \"73167176531330624919225119674426574742355349194934\"\n",
    "    \"96983520312774506326239578318016984801869478851843\"\n",
    "    \"85861560789112949495459501737958331952853208805511\"\n",
    "    \"12540698747158523863050715693290963295227443043557\"\n",
    "    \"66896648950445244523161731856403098711121722383113\"\n",
    "    \"62229893423380308135336276614282806444486645238749\"\n",
    "    \"30358907296290491560440772390713810515859307960866\"\n",
    "    \"70172427121883998797908792274921901699720888093776\"\n",
    "    \"65727333001053367881220235421809751254540594752243\"\n",
    "    \"52584907711670556013604839586446706324415722155397\"\n",
    "    \"53697817977846174064955149290862569321978468622482\"\n",
    "    \"83972241375657056057490261407972968652414535100474\"\n",
    "    \"82166370484403199890008895243450658541227588666881\"\n",
    "    \"16427171479924442928230863465674813919123162824586\"\n",
    "    \"17866458359124566529476545682848912883142607690042\"\n",
    "    \"24219022671055626321111109370544217506941658960408\"\n",
    "    \"07198403850962455444362981230987879927244284909188\"\n",
    "    \"84580156166097919133875499200524063689912560717606\"\n",
    "    \"05886116467109405077541002256983155200055935729725\"\n",
    "    \"71636269561882670428252483600823257530420752963450\"\n",
    ")\n",
    "\n",
    "# فارسی: طول پنجره‌ی بررسی (۱۳ رقم متوالی)\n",
    "# English: Window size (13 consecutive digits)\n",
    "window_size = 13\n",
    "\n",
    "# فارسی: متغیری برای نگه‌داری بیشترین حاصل‌ضرب\n",
    "# English: Variable to keep the maximum product found\n",
    "max_product = 0\n",
    "\n",
    "# فارسی: حلقه‌ی اصلی برای حرکت در طول رشته تا جای ممکن برای ۱۳ رقم\n",
    "# English: Main loop, sliding window through the string\n",
    "for i in range(len(digits) - window_size + 1):\n",
    "    # فارسی: استخراج زیررشته‌ی ۱۳ رقمی از موقعیت i\n",
    "    # English: Extract the 13-digit substring starting at i\n",
    "    substring = digits[i : i + window_size]\n",
    "    \n",
    "    # فارسی: اگر در زیررشته صفر وجود دارد، ضرب آن صفر می‌شود؛ پس می‌توانیم ادامه دهیم\n",
    "    # English: If there is a zero in substring, product would be zero; skip it\n",
    "    if '0' in substring:\n",
    "        continue\n",
    "    \n",
    "    # فارسی: محاسبه حاصل‌ضرب ارقام\n",
    "    # English: Compute the product of the digits\n",
    "    product = 1\n",
    "    for ch in substring:\n",
    "        product *= int(ch)\n",
    "    \n",
    "    # فارسی: اگر حاصل‌ضرب بیشتر از بیشترین مقدار تا کنون باشد، آن را به‌روزرسانی کن\n",
    "    # English: Update max_product if this product is greater\n",
    "    if product > max_product:\n",
    "        max_product = product\n",
    "\n",
    "# فارسی: در نهایت بیشترین حاصل‌ضرب را چاپ کن\n",
    "# English: Finally, print the maximum product found\n",
    "print(max_product)\n"
   ]
  },
  {
   "cell_type": "code",
   "execution_count": null,
   "id": "0786473f-49fc-42ec-ac50-284f09622e45",
   "metadata": {},
   "outputs": [],
   "source": []
  }
 ],
 "metadata": {
  "kernelspec": {
   "display_name": "Python 3 (ipykernel)",
   "language": "python",
   "name": "python3"
  },
  "language_info": {
   "codemirror_mode": {
    "name": "ipython",
    "version": 3
   },
   "file_extension": ".py",
   "mimetype": "text/x-python",
   "name": "python",
   "nbconvert_exporter": "python",
   "pygments_lexer": "ipython3",
   "version": "3.10.11"
  }
 },
 "nbformat": 4,
 "nbformat_minor": 5
}
