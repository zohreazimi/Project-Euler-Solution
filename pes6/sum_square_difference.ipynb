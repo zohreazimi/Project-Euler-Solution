{
 "cells": [
  {
   "cell_type": "code",
   "execution_count": 1,
   "id": "c831acd9-3f7b-4f60-af19-c0e639ded572",
   "metadata": {},
   "outputs": [
    {
     "name": "stdout",
     "output_type": "stream",
     "text": [
      "25164150\n"
     ]
    }
   ],
   "source": [
    "def difference_sum_squares(n):\n",
    "    sum_of_squares = sum(i**2 for i in range(1,n+1))\n",
    "    square_of_sum = sum(range(1,n+1))**2\n",
    "    return square_of_sum-sum_of_squares\n",
    "result = difference_sum_squares(100)\n",
    "print(result)"
   ]
  },
  {
   "cell_type": "code",
   "execution_count": 4,
   "id": "c64e0fc4-23fe-4993-866a-e547a01cbe21",
   "metadata": {},
   "outputs": [
    {
     "name": "stdout",
     "output_type": "stream",
     "text": [
      "25164150\n"
     ]
    }
   ],
   "source": [
    "def difference_sum_squares(n):\n",
    "    sum_of_squares = 0\n",
    "    for i in range(1, n+1):\n",
    "        sum_of_squares += i**2\n",
    "    total_sum = 0\n",
    "    for i in range(1, n+1):\n",
    "        total_sum += i\n",
    "    square_of_sum = total_sum ** 2\n",
    "    return square_of_sum - sum_of_squares\n",
    "result = difference_sum_squares(100)\n",
    "print(result)"
   ]
  },
  {
   "cell_type": "code",
   "execution_count": null,
   "id": "022ec9b7-7490-474e-9397-046b838e12e4",
   "metadata": {},
   "outputs": [],
   "source": []
  }
 ],
 "metadata": {
  "kernelspec": {
   "display_name": "Python 3 (ipykernel)",
   "language": "python",
   "name": "python3"
  },
  "language_info": {
   "codemirror_mode": {
    "name": "ipython",
    "version": 3
   },
   "file_extension": ".py",
   "mimetype": "text/x-python",
   "name": "python",
   "nbconvert_exporter": "python",
   "pygments_lexer": "ipython3",
   "version": "3.12.4"
  }
 },
 "nbformat": 4,
 "nbformat_minor": 5
}
