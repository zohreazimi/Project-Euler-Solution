{
 "cells": [
  {
   "cell_type": "code",
   "execution_count": 6,
   "id": "7432ba8b-b78c-4351-b732-b82993b992f6",
   "metadata": {},
   "outputs": [
    {
     "name": "stdout",
     "output_type": "stream",
     "text": [
      "104743\n"
     ]
    }
   ],
   "source": [
    "import math\n",
    "def is_prime(n):\n",
    "    if n < 2:\n",
    "        return False\n",
    "    if n in (2, 3):\n",
    "        return True\n",
    "    if n % 2 == 0:\n",
    "        return False\n",
    "    for i in range(3, int(math.sqrt(n)) + 1, 2):\n",
    "        if n % i == 0:\n",
    "            return False\n",
    "    return True\n",
    "\n",
    "count = 1  \n",
    "num = 1\n",
    "while count < 10001:\n",
    "    num += 2 \n",
    "    if is_prime(num):\n",
    "        count += 1\n",
    "print(num) \n"
   ]
  },
  {
   "cell_type": "code",
   "execution_count": 8,
   "id": "2cd27a60-081c-40b6-8176-28411b8cc4ed",
   "metadata": {},
   "outputs": [
    {
     "name": "stdout",
     "output_type": "stream",
     "text": [
      "104743\n"
     ]
    }
   ],
   "source": [
    "import math\n",
    "\n",
    "count = 1  \n",
    "num = 1\n",
    "is_prime = False\n",
    "while count < 10001:\n",
    "    num += 2 \n",
    "    is_prime = True\n",
    "    i = 3\n",
    "    limit = int(math.sqrt(num)) + 1\n",
    "    can_continue = True   \n",
    "\n",
    "    while i < limit and can_continue:\n",
    "        if num % i == 0:\n",
    "            is_prime = False\n",
    "            can_continue = False  \n",
    "        i += 2\n",
    "    if is_prime:\n",
    "        count += 1\n",
    "print(num)\n"
   ]
  },
  {
   "cell_type": "code",
   "execution_count": null,
   "id": "450debe9-1689-4b52-a293-6b12566e2d42",
   "metadata": {},
   "outputs": [],
   "source": []
  }
 ],
 "metadata": {
  "kernelspec": {
   "display_name": "Python 3 (ipykernel)",
   "language": "python",
   "name": "python3"
  },
  "language_info": {
   "codemirror_mode": {
    "name": "ipython",
    "version": 3
   },
   "file_extension": ".py",
   "mimetype": "text/x-python",
   "name": "python",
   "nbconvert_exporter": "python",
   "pygments_lexer": "ipython3",
   "version": "3.12.4"
  }
 },
 "nbformat": 4,
 "nbformat_minor": 5
}
